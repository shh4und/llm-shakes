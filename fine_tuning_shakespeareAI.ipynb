{
  "nbformat": 4,
  "nbformat_minor": 0,
  "metadata": {
    "colab": {
      "provenance": [],
      "collapsed_sections": [
        "SFEtXoJtykP6"
      ]
    },
    "kernelspec": {
      "name": "python3",
      "display_name": "Python 3"
    },
    "language_info": {
      "name": "python"
    }
  },
  "cells": [
    {
      "cell_type": "markdown",
      "source": [
        "## Bibliotecas e dependencias"
      ],
      "metadata": {
        "id": "UTmlNZQIuoNN"
      }
    },
    {
      "cell_type": "code",
      "source": [
        "# !pip install kagglehub[pandas-datasets] gradio"
      ],
      "metadata": {
        "id": "CZZoWNceUssu"
      },
      "execution_count": null,
      "outputs": []
    },
    {
      "cell_type": "code",
      "source": [
        "import json\n",
        "import re\n",
        "import random\n",
        "from time import sleep\n",
        "import gradio as gr\n",
        "import kagglehub\n",
        "from kagglehub import KaggleDatasetAdapter"
      ],
      "metadata": {
        "id": "Ti2mnvSVW7Gv"
      },
      "execution_count": null,
      "outputs": []
    },
    {
      "cell_type": "code",
      "source": [
        "from google.colab import userdata\n",
        "key = userdata.get('openAIkey')"
      ],
      "metadata": {
        "id": "CJRT4SopuPLZ"
      },
      "execution_count": null,
      "outputs": []
    },
    {
      "cell_type": "code",
      "source": [
        "from openai import OpenAI\n",
        "client = OpenAI(api_key=key)"
      ],
      "metadata": {
        "id": "z-ioFSyuuT37"
      },
      "execution_count": null,
      "outputs": []
    },
    {
      "cell_type": "markdown",
      "source": [
        "## Pre-processamento de dados"
      ],
      "metadata": {
        "id": "SFEtXoJtykP6"
      }
    },
    {
      "cell_type": "code",
      "source": [
        "hamlet_df = kagglehub.load_dataset(\n",
        "  KaggleDatasetAdapter.PANDAS,\n",
        "  \"umerhaddii/shakespeare-plays-dialogues\",\n",
        "  \"hamlet.csv\",\n",
        ")\n",
        "\n",
        "macbeth_df = kagglehub.load_dataset(\n",
        "  KaggleDatasetAdapter.PANDAS,\n",
        "  \"umerhaddii/shakespeare-plays-dialogues\",\n",
        "  \"macbeth.csv\",\n",
        ")\n",
        "\n",
        "romeo_juliet_df = kagglehub.load_dataset(\n",
        "  KaggleDatasetAdapter.PANDAS,\n",
        "  \"umerhaddii/shakespeare-plays-dialogues\",\n",
        "  \"romeo_juliet.csv\",\n",
        ")\n"
      ],
      "metadata": {
        "colab": {
          "base_uri": "https://localhost:8080/"
        },
        "id": "EEnAJEi1Uflw",
        "outputId": "792a3798-7f67-4ffd-9b1c-26382c42d5f5"
      },
      "execution_count": null,
      "outputs": [
        {
          "output_type": "stream",
          "name": "stderr",
          "text": [
            "<ipython-input-39-99f355316fa4>:1: DeprecationWarning: load_dataset is deprecated and will be removed in future version.\n",
            "  hamlet_df = kagglehub.load_dataset(\n",
            "<ipython-input-39-99f355316fa4>:7: DeprecationWarning: load_dataset is deprecated and will be removed in future version.\n",
            "  macbeth_df = kagglehub.load_dataset(\n",
            "<ipython-input-39-99f355316fa4>:13: DeprecationWarning: load_dataset is deprecated and will be removed in future version.\n",
            "  romeo_juliet_df = kagglehub.load_dataset(\n"
          ]
        }
      ]
    },
    {
      "cell_type": "code",
      "source": [
        "hamlet_df.head()"
      ],
      "metadata": {
        "colab": {
          "base_uri": "https://localhost:8080/",
          "height": 206
        },
        "id": "6nikIC_LXrrX",
        "outputId": "1c30a9a3-3f40-4974-bfa6-7b0c9e762d96"
      },
      "execution_count": null,
      "outputs": [
        {
          "output_type": "execute_result",
          "data": {
            "text/plain": [
              "     act    scene          character  \\\n",
              "0  Act I  Scene I  [stage direction]   \n",
              "1  Act I  Scene I           Bernardo   \n",
              "2  Act I  Scene I          Francisco   \n",
              "3  Act I  Scene I           Bernardo   \n",
              "4  Act I  Scene I          Francisco   \n",
              "\n",
              "                                       dialogue  line_number  \n",
              "0  FRANCISCO at his post. Enter to him BERNARDO          NaN  \n",
              "1                                  Who's there?          1.0  \n",
              "2   Nay, answer me: stand, and unfold yourself.          2.0  \n",
              "3                           Long live the king!          3.0  \n",
              "4                                     Bernardo?          4.0  "
            ],
            "text/html": [
              "\n",
              "  <div id=\"df-fa5679a7-e7ec-4438-a9c3-0f1a4d6e68a5\" class=\"colab-df-container\">\n",
              "    <div>\n",
              "<style scoped>\n",
              "    .dataframe tbody tr th:only-of-type {\n",
              "        vertical-align: middle;\n",
              "    }\n",
              "\n",
              "    .dataframe tbody tr th {\n",
              "        vertical-align: top;\n",
              "    }\n",
              "\n",
              "    .dataframe thead th {\n",
              "        text-align: right;\n",
              "    }\n",
              "</style>\n",
              "<table border=\"1\" class=\"dataframe\">\n",
              "  <thead>\n",
              "    <tr style=\"text-align: right;\">\n",
              "      <th></th>\n",
              "      <th>act</th>\n",
              "      <th>scene</th>\n",
              "      <th>character</th>\n",
              "      <th>dialogue</th>\n",
              "      <th>line_number</th>\n",
              "    </tr>\n",
              "  </thead>\n",
              "  <tbody>\n",
              "    <tr>\n",
              "      <th>0</th>\n",
              "      <td>Act I</td>\n",
              "      <td>Scene I</td>\n",
              "      <td>[stage direction]</td>\n",
              "      <td>FRANCISCO at his post. Enter to him BERNARDO</td>\n",
              "      <td>NaN</td>\n",
              "    </tr>\n",
              "    <tr>\n",
              "      <th>1</th>\n",
              "      <td>Act I</td>\n",
              "      <td>Scene I</td>\n",
              "      <td>Bernardo</td>\n",
              "      <td>Who's there?</td>\n",
              "      <td>1.0</td>\n",
              "    </tr>\n",
              "    <tr>\n",
              "      <th>2</th>\n",
              "      <td>Act I</td>\n",
              "      <td>Scene I</td>\n",
              "      <td>Francisco</td>\n",
              "      <td>Nay, answer me: stand, and unfold yourself.</td>\n",
              "      <td>2.0</td>\n",
              "    </tr>\n",
              "    <tr>\n",
              "      <th>3</th>\n",
              "      <td>Act I</td>\n",
              "      <td>Scene I</td>\n",
              "      <td>Bernardo</td>\n",
              "      <td>Long live the king!</td>\n",
              "      <td>3.0</td>\n",
              "    </tr>\n",
              "    <tr>\n",
              "      <th>4</th>\n",
              "      <td>Act I</td>\n",
              "      <td>Scene I</td>\n",
              "      <td>Francisco</td>\n",
              "      <td>Bernardo?</td>\n",
              "      <td>4.0</td>\n",
              "    </tr>\n",
              "  </tbody>\n",
              "</table>\n",
              "</div>\n",
              "    <div class=\"colab-df-buttons\">\n",
              "\n",
              "  <div class=\"colab-df-container\">\n",
              "    <button class=\"colab-df-convert\" onclick=\"convertToInteractive('df-fa5679a7-e7ec-4438-a9c3-0f1a4d6e68a5')\"\n",
              "            title=\"Convert this dataframe to an interactive table.\"\n",
              "            style=\"display:none;\">\n",
              "\n",
              "  <svg xmlns=\"http://www.w3.org/2000/svg\" height=\"24px\" viewBox=\"0 -960 960 960\">\n",
              "    <path d=\"M120-120v-720h720v720H120Zm60-500h600v-160H180v160Zm220 220h160v-160H400v160Zm0 220h160v-160H400v160ZM180-400h160v-160H180v160Zm440 0h160v-160H620v160ZM180-180h160v-160H180v160Zm440 0h160v-160H620v160Z\"/>\n",
              "  </svg>\n",
              "    </button>\n",
              "\n",
              "  <style>\n",
              "    .colab-df-container {\n",
              "      display:flex;\n",
              "      gap: 12px;\n",
              "    }\n",
              "\n",
              "    .colab-df-convert {\n",
              "      background-color: #E8F0FE;\n",
              "      border: none;\n",
              "      border-radius: 50%;\n",
              "      cursor: pointer;\n",
              "      display: none;\n",
              "      fill: #1967D2;\n",
              "      height: 32px;\n",
              "      padding: 0 0 0 0;\n",
              "      width: 32px;\n",
              "    }\n",
              "\n",
              "    .colab-df-convert:hover {\n",
              "      background-color: #E2EBFA;\n",
              "      box-shadow: 0px 1px 2px rgba(60, 64, 67, 0.3), 0px 1px 3px 1px rgba(60, 64, 67, 0.15);\n",
              "      fill: #174EA6;\n",
              "    }\n",
              "\n",
              "    .colab-df-buttons div {\n",
              "      margin-bottom: 4px;\n",
              "    }\n",
              "\n",
              "    [theme=dark] .colab-df-convert {\n",
              "      background-color: #3B4455;\n",
              "      fill: #D2E3FC;\n",
              "    }\n",
              "\n",
              "    [theme=dark] .colab-df-convert:hover {\n",
              "      background-color: #434B5C;\n",
              "      box-shadow: 0px 1px 3px 1px rgba(0, 0, 0, 0.15);\n",
              "      filter: drop-shadow(0px 1px 2px rgba(0, 0, 0, 0.3));\n",
              "      fill: #FFFFFF;\n",
              "    }\n",
              "  </style>\n",
              "\n",
              "    <script>\n",
              "      const buttonEl =\n",
              "        document.querySelector('#df-fa5679a7-e7ec-4438-a9c3-0f1a4d6e68a5 button.colab-df-convert');\n",
              "      buttonEl.style.display =\n",
              "        google.colab.kernel.accessAllowed ? 'block' : 'none';\n",
              "\n",
              "      async function convertToInteractive(key) {\n",
              "        const element = document.querySelector('#df-fa5679a7-e7ec-4438-a9c3-0f1a4d6e68a5');\n",
              "        const dataTable =\n",
              "          await google.colab.kernel.invokeFunction('convertToInteractive',\n",
              "                                                    [key], {});\n",
              "        if (!dataTable) return;\n",
              "\n",
              "        const docLinkHtml = 'Like what you see? Visit the ' +\n",
              "          '<a target=\"_blank\" href=https://colab.research.google.com/notebooks/data_table.ipynb>data table notebook</a>'\n",
              "          + ' to learn more about interactive tables.';\n",
              "        element.innerHTML = '';\n",
              "        dataTable['output_type'] = 'display_data';\n",
              "        await google.colab.output.renderOutput(dataTable, element);\n",
              "        const docLink = document.createElement('div');\n",
              "        docLink.innerHTML = docLinkHtml;\n",
              "        element.appendChild(docLink);\n",
              "      }\n",
              "    </script>\n",
              "  </div>\n",
              "\n",
              "\n",
              "<div id=\"df-a02cf83d-f7e1-4c6e-a1fd-fd61eef602ba\">\n",
              "  <button class=\"colab-df-quickchart\" onclick=\"quickchart('df-a02cf83d-f7e1-4c6e-a1fd-fd61eef602ba')\"\n",
              "            title=\"Suggest charts\"\n",
              "            style=\"display:none;\">\n",
              "\n",
              "<svg xmlns=\"http://www.w3.org/2000/svg\" height=\"24px\"viewBox=\"0 0 24 24\"\n",
              "     width=\"24px\">\n",
              "    <g>\n",
              "        <path d=\"M19 3H5c-1.1 0-2 .9-2 2v14c0 1.1.9 2 2 2h14c1.1 0 2-.9 2-2V5c0-1.1-.9-2-2-2zM9 17H7v-7h2v7zm4 0h-2V7h2v10zm4 0h-2v-4h2v4z\"/>\n",
              "    </g>\n",
              "</svg>\n",
              "  </button>\n",
              "\n",
              "<style>\n",
              "  .colab-df-quickchart {\n",
              "      --bg-color: #E8F0FE;\n",
              "      --fill-color: #1967D2;\n",
              "      --hover-bg-color: #E2EBFA;\n",
              "      --hover-fill-color: #174EA6;\n",
              "      --disabled-fill-color: #AAA;\n",
              "      --disabled-bg-color: #DDD;\n",
              "  }\n",
              "\n",
              "  [theme=dark] .colab-df-quickchart {\n",
              "      --bg-color: #3B4455;\n",
              "      --fill-color: #D2E3FC;\n",
              "      --hover-bg-color: #434B5C;\n",
              "      --hover-fill-color: #FFFFFF;\n",
              "      --disabled-bg-color: #3B4455;\n",
              "      --disabled-fill-color: #666;\n",
              "  }\n",
              "\n",
              "  .colab-df-quickchart {\n",
              "    background-color: var(--bg-color);\n",
              "    border: none;\n",
              "    border-radius: 50%;\n",
              "    cursor: pointer;\n",
              "    display: none;\n",
              "    fill: var(--fill-color);\n",
              "    height: 32px;\n",
              "    padding: 0;\n",
              "    width: 32px;\n",
              "  }\n",
              "\n",
              "  .colab-df-quickchart:hover {\n",
              "    background-color: var(--hover-bg-color);\n",
              "    box-shadow: 0 1px 2px rgba(60, 64, 67, 0.3), 0 1px 3px 1px rgba(60, 64, 67, 0.15);\n",
              "    fill: var(--button-hover-fill-color);\n",
              "  }\n",
              "\n",
              "  .colab-df-quickchart-complete:disabled,\n",
              "  .colab-df-quickchart-complete:disabled:hover {\n",
              "    background-color: var(--disabled-bg-color);\n",
              "    fill: var(--disabled-fill-color);\n",
              "    box-shadow: none;\n",
              "  }\n",
              "\n",
              "  .colab-df-spinner {\n",
              "    border: 2px solid var(--fill-color);\n",
              "    border-color: transparent;\n",
              "    border-bottom-color: var(--fill-color);\n",
              "    animation:\n",
              "      spin 1s steps(1) infinite;\n",
              "  }\n",
              "\n",
              "  @keyframes spin {\n",
              "    0% {\n",
              "      border-color: transparent;\n",
              "      border-bottom-color: var(--fill-color);\n",
              "      border-left-color: var(--fill-color);\n",
              "    }\n",
              "    20% {\n",
              "      border-color: transparent;\n",
              "      border-left-color: var(--fill-color);\n",
              "      border-top-color: var(--fill-color);\n",
              "    }\n",
              "    30% {\n",
              "      border-color: transparent;\n",
              "      border-left-color: var(--fill-color);\n",
              "      border-top-color: var(--fill-color);\n",
              "      border-right-color: var(--fill-color);\n",
              "    }\n",
              "    40% {\n",
              "      border-color: transparent;\n",
              "      border-right-color: var(--fill-color);\n",
              "      border-top-color: var(--fill-color);\n",
              "    }\n",
              "    60% {\n",
              "      border-color: transparent;\n",
              "      border-right-color: var(--fill-color);\n",
              "    }\n",
              "    80% {\n",
              "      border-color: transparent;\n",
              "      border-right-color: var(--fill-color);\n",
              "      border-bottom-color: var(--fill-color);\n",
              "    }\n",
              "    90% {\n",
              "      border-color: transparent;\n",
              "      border-bottom-color: var(--fill-color);\n",
              "    }\n",
              "  }\n",
              "</style>\n",
              "\n",
              "  <script>\n",
              "    async function quickchart(key) {\n",
              "      const quickchartButtonEl =\n",
              "        document.querySelector('#' + key + ' button');\n",
              "      quickchartButtonEl.disabled = true;  // To prevent multiple clicks.\n",
              "      quickchartButtonEl.classList.add('colab-df-spinner');\n",
              "      try {\n",
              "        const charts = await google.colab.kernel.invokeFunction(\n",
              "            'suggestCharts', [key], {});\n",
              "      } catch (error) {\n",
              "        console.error('Error during call to suggestCharts:', error);\n",
              "      }\n",
              "      quickchartButtonEl.classList.remove('colab-df-spinner');\n",
              "      quickchartButtonEl.classList.add('colab-df-quickchart-complete');\n",
              "    }\n",
              "    (() => {\n",
              "      let quickchartButtonEl =\n",
              "        document.querySelector('#df-a02cf83d-f7e1-4c6e-a1fd-fd61eef602ba button');\n",
              "      quickchartButtonEl.style.display =\n",
              "        google.colab.kernel.accessAllowed ? 'block' : 'none';\n",
              "    })();\n",
              "  </script>\n",
              "</div>\n",
              "\n",
              "    </div>\n",
              "  </div>\n"
            ],
            "application/vnd.google.colaboratory.intrinsic+json": {
              "type": "dataframe",
              "variable_name": "hamlet_df",
              "summary": "{\n  \"name\": \"hamlet_df\",\n  \"rows\": 4217,\n  \"fields\": [\n    {\n      \"column\": \"act\",\n      \"properties\": {\n        \"dtype\": \"category\",\n        \"num_unique_values\": 5,\n        \"samples\": [\n          \"Act II\",\n          \"Act V\",\n          \"Act III\"\n        ],\n        \"semantic_type\": \"\",\n        \"description\": \"\"\n      }\n    },\n    {\n      \"column\": \"scene\",\n      \"properties\": {\n        \"dtype\": \"category\",\n        \"num_unique_values\": 7,\n        \"samples\": [\n          \"Scene I\",\n          \"Scene II\",\n          \"Scene VI\"\n        ],\n        \"semantic_type\": \"\",\n        \"description\": \"\"\n      }\n    },\n    {\n      \"column\": \"character\",\n      \"properties\": {\n        \"dtype\": \"category\",\n        \"num_unique_values\": 36,\n        \"samples\": [\n          \"First Ambassador\",\n          \"Ghost\",\n          \"Danes\"\n        ],\n        \"semantic_type\": \"\",\n        \"description\": \"\"\n      }\n    },\n    {\n      \"column\": \"dialogue\",\n      \"properties\": {\n        \"dtype\": \"string\",\n        \"num_unique_values\": 4118,\n        \"samples\": [\n          \"Where is your son?\",\n          \"Hillo, ho, ho, boy! come, bird, come.\",\n          \"What, my lord?\"\n        ],\n        \"semantic_type\": \"\",\n        \"description\": \"\"\n      }\n    },\n    {\n      \"column\": \"line_number\",\n      \"properties\": {\n        \"dtype\": \"number\",\n        \"std\": 1158.0202934318552,\n        \"min\": 1.0,\n        \"max\": 4011.0,\n        \"num_unique_values\": 4011,\n        \"samples\": [\n          326.0,\n          2620.0,\n          2900.0\n        ],\n        \"semantic_type\": \"\",\n        \"description\": \"\"\n      }\n    }\n  ]\n}"
            }
          },
          "metadata": {},
          "execution_count": 40
        }
      ]
    },
    {
      "cell_type": "code",
      "source": [
        "macbeth_df.head()"
      ],
      "metadata": {
        "colab": {
          "base_uri": "https://localhost:8080/",
          "height": 206
        },
        "id": "27Z4o43tXttv",
        "outputId": "1b7f16f1-8349-4e99-ddb7-35a17b85966a"
      },
      "execution_count": null,
      "outputs": [
        {
          "output_type": "execute_result",
          "data": {
            "text/plain": [
              "     act    scene          character  \\\n",
              "0  Act I  Scene I  [stage direction]   \n",
              "1  Act I  Scene I        First Witch   \n",
              "2  Act I  Scene I        First Witch   \n",
              "3  Act I  Scene I       Second Witch   \n",
              "4  Act I  Scene I       Second Witch   \n",
              "\n",
              "                                     dialogue  line_number  \n",
              "0  Thunder and lightning. Enter three Witches          NaN  \n",
              "1              When shall we three meet again          1.0  \n",
              "2          In thunder, lightning, or in rain?          2.0  \n",
              "3                 When the hurlyburly's done,          3.0  \n",
              "4             When the battle's lost and won.          4.0  "
            ],
            "text/html": [
              "\n",
              "  <div id=\"df-168c00d4-729c-48d3-ac9b-543cff1ac702\" class=\"colab-df-container\">\n",
              "    <div>\n",
              "<style scoped>\n",
              "    .dataframe tbody tr th:only-of-type {\n",
              "        vertical-align: middle;\n",
              "    }\n",
              "\n",
              "    .dataframe tbody tr th {\n",
              "        vertical-align: top;\n",
              "    }\n",
              "\n",
              "    .dataframe thead th {\n",
              "        text-align: right;\n",
              "    }\n",
              "</style>\n",
              "<table border=\"1\" class=\"dataframe\">\n",
              "  <thead>\n",
              "    <tr style=\"text-align: right;\">\n",
              "      <th></th>\n",
              "      <th>act</th>\n",
              "      <th>scene</th>\n",
              "      <th>character</th>\n",
              "      <th>dialogue</th>\n",
              "      <th>line_number</th>\n",
              "    </tr>\n",
              "  </thead>\n",
              "  <tbody>\n",
              "    <tr>\n",
              "      <th>0</th>\n",
              "      <td>Act I</td>\n",
              "      <td>Scene I</td>\n",
              "      <td>[stage direction]</td>\n",
              "      <td>Thunder and lightning. Enter three Witches</td>\n",
              "      <td>NaN</td>\n",
              "    </tr>\n",
              "    <tr>\n",
              "      <th>1</th>\n",
              "      <td>Act I</td>\n",
              "      <td>Scene I</td>\n",
              "      <td>First Witch</td>\n",
              "      <td>When shall we three meet again</td>\n",
              "      <td>1.0</td>\n",
              "    </tr>\n",
              "    <tr>\n",
              "      <th>2</th>\n",
              "      <td>Act I</td>\n",
              "      <td>Scene I</td>\n",
              "      <td>First Witch</td>\n",
              "      <td>In thunder, lightning, or in rain?</td>\n",
              "      <td>2.0</td>\n",
              "    </tr>\n",
              "    <tr>\n",
              "      <th>3</th>\n",
              "      <td>Act I</td>\n",
              "      <td>Scene I</td>\n",
              "      <td>Second Witch</td>\n",
              "      <td>When the hurlyburly's done,</td>\n",
              "      <td>3.0</td>\n",
              "    </tr>\n",
              "    <tr>\n",
              "      <th>4</th>\n",
              "      <td>Act I</td>\n",
              "      <td>Scene I</td>\n",
              "      <td>Second Witch</td>\n",
              "      <td>When the battle's lost and won.</td>\n",
              "      <td>4.0</td>\n",
              "    </tr>\n",
              "  </tbody>\n",
              "</table>\n",
              "</div>\n",
              "    <div class=\"colab-df-buttons\">\n",
              "\n",
              "  <div class=\"colab-df-container\">\n",
              "    <button class=\"colab-df-convert\" onclick=\"convertToInteractive('df-168c00d4-729c-48d3-ac9b-543cff1ac702')\"\n",
              "            title=\"Convert this dataframe to an interactive table.\"\n",
              "            style=\"display:none;\">\n",
              "\n",
              "  <svg xmlns=\"http://www.w3.org/2000/svg\" height=\"24px\" viewBox=\"0 -960 960 960\">\n",
              "    <path d=\"M120-120v-720h720v720H120Zm60-500h600v-160H180v160Zm220 220h160v-160H400v160Zm0 220h160v-160H400v160ZM180-400h160v-160H180v160Zm440 0h160v-160H620v160ZM180-180h160v-160H180v160Zm440 0h160v-160H620v160Z\"/>\n",
              "  </svg>\n",
              "    </button>\n",
              "\n",
              "  <style>\n",
              "    .colab-df-container {\n",
              "      display:flex;\n",
              "      gap: 12px;\n",
              "    }\n",
              "\n",
              "    .colab-df-convert {\n",
              "      background-color: #E8F0FE;\n",
              "      border: none;\n",
              "      border-radius: 50%;\n",
              "      cursor: pointer;\n",
              "      display: none;\n",
              "      fill: #1967D2;\n",
              "      height: 32px;\n",
              "      padding: 0 0 0 0;\n",
              "      width: 32px;\n",
              "    }\n",
              "\n",
              "    .colab-df-convert:hover {\n",
              "      background-color: #E2EBFA;\n",
              "      box-shadow: 0px 1px 2px rgba(60, 64, 67, 0.3), 0px 1px 3px 1px rgba(60, 64, 67, 0.15);\n",
              "      fill: #174EA6;\n",
              "    }\n",
              "\n",
              "    .colab-df-buttons div {\n",
              "      margin-bottom: 4px;\n",
              "    }\n",
              "\n",
              "    [theme=dark] .colab-df-convert {\n",
              "      background-color: #3B4455;\n",
              "      fill: #D2E3FC;\n",
              "    }\n",
              "\n",
              "    [theme=dark] .colab-df-convert:hover {\n",
              "      background-color: #434B5C;\n",
              "      box-shadow: 0px 1px 3px 1px rgba(0, 0, 0, 0.15);\n",
              "      filter: drop-shadow(0px 1px 2px rgba(0, 0, 0, 0.3));\n",
              "      fill: #FFFFFF;\n",
              "    }\n",
              "  </style>\n",
              "\n",
              "    <script>\n",
              "      const buttonEl =\n",
              "        document.querySelector('#df-168c00d4-729c-48d3-ac9b-543cff1ac702 button.colab-df-convert');\n",
              "      buttonEl.style.display =\n",
              "        google.colab.kernel.accessAllowed ? 'block' : 'none';\n",
              "\n",
              "      async function convertToInteractive(key) {\n",
              "        const element = document.querySelector('#df-168c00d4-729c-48d3-ac9b-543cff1ac702');\n",
              "        const dataTable =\n",
              "          await google.colab.kernel.invokeFunction('convertToInteractive',\n",
              "                                                    [key], {});\n",
              "        if (!dataTable) return;\n",
              "\n",
              "        const docLinkHtml = 'Like what you see? Visit the ' +\n",
              "          '<a target=\"_blank\" href=https://colab.research.google.com/notebooks/data_table.ipynb>data table notebook</a>'\n",
              "          + ' to learn more about interactive tables.';\n",
              "        element.innerHTML = '';\n",
              "        dataTable['output_type'] = 'display_data';\n",
              "        await google.colab.output.renderOutput(dataTable, element);\n",
              "        const docLink = document.createElement('div');\n",
              "        docLink.innerHTML = docLinkHtml;\n",
              "        element.appendChild(docLink);\n",
              "      }\n",
              "    </script>\n",
              "  </div>\n",
              "\n",
              "\n",
              "<div id=\"df-7def7d4a-e61e-471a-b2aa-7d568f75be26\">\n",
              "  <button class=\"colab-df-quickchart\" onclick=\"quickchart('df-7def7d4a-e61e-471a-b2aa-7d568f75be26')\"\n",
              "            title=\"Suggest charts\"\n",
              "            style=\"display:none;\">\n",
              "\n",
              "<svg xmlns=\"http://www.w3.org/2000/svg\" height=\"24px\"viewBox=\"0 0 24 24\"\n",
              "     width=\"24px\">\n",
              "    <g>\n",
              "        <path d=\"M19 3H5c-1.1 0-2 .9-2 2v14c0 1.1.9 2 2 2h14c1.1 0 2-.9 2-2V5c0-1.1-.9-2-2-2zM9 17H7v-7h2v7zm4 0h-2V7h2v10zm4 0h-2v-4h2v4z\"/>\n",
              "    </g>\n",
              "</svg>\n",
              "  </button>\n",
              "\n",
              "<style>\n",
              "  .colab-df-quickchart {\n",
              "      --bg-color: #E8F0FE;\n",
              "      --fill-color: #1967D2;\n",
              "      --hover-bg-color: #E2EBFA;\n",
              "      --hover-fill-color: #174EA6;\n",
              "      --disabled-fill-color: #AAA;\n",
              "      --disabled-bg-color: #DDD;\n",
              "  }\n",
              "\n",
              "  [theme=dark] .colab-df-quickchart {\n",
              "      --bg-color: #3B4455;\n",
              "      --fill-color: #D2E3FC;\n",
              "      --hover-bg-color: #434B5C;\n",
              "      --hover-fill-color: #FFFFFF;\n",
              "      --disabled-bg-color: #3B4455;\n",
              "      --disabled-fill-color: #666;\n",
              "  }\n",
              "\n",
              "  .colab-df-quickchart {\n",
              "    background-color: var(--bg-color);\n",
              "    border: none;\n",
              "    border-radius: 50%;\n",
              "    cursor: pointer;\n",
              "    display: none;\n",
              "    fill: var(--fill-color);\n",
              "    height: 32px;\n",
              "    padding: 0;\n",
              "    width: 32px;\n",
              "  }\n",
              "\n",
              "  .colab-df-quickchart:hover {\n",
              "    background-color: var(--hover-bg-color);\n",
              "    box-shadow: 0 1px 2px rgba(60, 64, 67, 0.3), 0 1px 3px 1px rgba(60, 64, 67, 0.15);\n",
              "    fill: var(--button-hover-fill-color);\n",
              "  }\n",
              "\n",
              "  .colab-df-quickchart-complete:disabled,\n",
              "  .colab-df-quickchart-complete:disabled:hover {\n",
              "    background-color: var(--disabled-bg-color);\n",
              "    fill: var(--disabled-fill-color);\n",
              "    box-shadow: none;\n",
              "  }\n",
              "\n",
              "  .colab-df-spinner {\n",
              "    border: 2px solid var(--fill-color);\n",
              "    border-color: transparent;\n",
              "    border-bottom-color: var(--fill-color);\n",
              "    animation:\n",
              "      spin 1s steps(1) infinite;\n",
              "  }\n",
              "\n",
              "  @keyframes spin {\n",
              "    0% {\n",
              "      border-color: transparent;\n",
              "      border-bottom-color: var(--fill-color);\n",
              "      border-left-color: var(--fill-color);\n",
              "    }\n",
              "    20% {\n",
              "      border-color: transparent;\n",
              "      border-left-color: var(--fill-color);\n",
              "      border-top-color: var(--fill-color);\n",
              "    }\n",
              "    30% {\n",
              "      border-color: transparent;\n",
              "      border-left-color: var(--fill-color);\n",
              "      border-top-color: var(--fill-color);\n",
              "      border-right-color: var(--fill-color);\n",
              "    }\n",
              "    40% {\n",
              "      border-color: transparent;\n",
              "      border-right-color: var(--fill-color);\n",
              "      border-top-color: var(--fill-color);\n",
              "    }\n",
              "    60% {\n",
              "      border-color: transparent;\n",
              "      border-right-color: var(--fill-color);\n",
              "    }\n",
              "    80% {\n",
              "      border-color: transparent;\n",
              "      border-right-color: var(--fill-color);\n",
              "      border-bottom-color: var(--fill-color);\n",
              "    }\n",
              "    90% {\n",
              "      border-color: transparent;\n",
              "      border-bottom-color: var(--fill-color);\n",
              "    }\n",
              "  }\n",
              "</style>\n",
              "\n",
              "  <script>\n",
              "    async function quickchart(key) {\n",
              "      const quickchartButtonEl =\n",
              "        document.querySelector('#' + key + ' button');\n",
              "      quickchartButtonEl.disabled = true;  // To prevent multiple clicks.\n",
              "      quickchartButtonEl.classList.add('colab-df-spinner');\n",
              "      try {\n",
              "        const charts = await google.colab.kernel.invokeFunction(\n",
              "            'suggestCharts', [key], {});\n",
              "      } catch (error) {\n",
              "        console.error('Error during call to suggestCharts:', error);\n",
              "      }\n",
              "      quickchartButtonEl.classList.remove('colab-df-spinner');\n",
              "      quickchartButtonEl.classList.add('colab-df-quickchart-complete');\n",
              "    }\n",
              "    (() => {\n",
              "      let quickchartButtonEl =\n",
              "        document.querySelector('#df-7def7d4a-e61e-471a-b2aa-7d568f75be26 button');\n",
              "      quickchartButtonEl.style.display =\n",
              "        google.colab.kernel.accessAllowed ? 'block' : 'none';\n",
              "    })();\n",
              "  </script>\n",
              "</div>\n",
              "\n",
              "    </div>\n",
              "  </div>\n"
            ],
            "application/vnd.google.colaboratory.intrinsic+json": {
              "type": "dataframe",
              "variable_name": "macbeth_df",
              "summary": "{\n  \"name\": \"macbeth_df\",\n  \"rows\": 2553,\n  \"fields\": [\n    {\n      \"column\": \"act\",\n      \"properties\": {\n        \"dtype\": \"category\",\n        \"num_unique_values\": 5,\n        \"samples\": [\n          \"Act II\",\n          \"Act V\",\n          \"Act III\"\n        ],\n        \"semantic_type\": \"\",\n        \"description\": \"\"\n      }\n    },\n    {\n      \"column\": \"scene\",\n      \"properties\": {\n        \"dtype\": \"category\",\n        \"num_unique_values\": 8,\n        \"samples\": [\n          \"Scene II\",\n          \"Scene VI\",\n          \"Scene I\"\n        ],\n        \"semantic_type\": \"\",\n        \"description\": \"\"\n      }\n    },\n    {\n      \"column\": \"character\",\n      \"properties\": {\n        \"dtype\": \"category\",\n        \"num_unique_values\": 42,\n        \"samples\": [\n          \"Third Murderer\",\n          \"Lady Macbeth\",\n          \"Lennox\"\n        ],\n        \"semantic_type\": \"\",\n        \"description\": \"\"\n      }\n    },\n    {\n      \"column\": \"dialogue\",\n      \"properties\": {\n        \"dtype\": \"string\",\n        \"num_unique_values\": 2484,\n        \"samples\": [\n          \"We will speak further.\",\n          \"Led you to Duncan. O, these flaws and starts,\",\n          \"Merciful heaven!\"\n        ],\n        \"semantic_type\": \"\",\n        \"description\": \"\"\n      }\n    },\n    {\n      \"column\": \"line_number\",\n      \"properties\": {\n        \"dtype\": \"number\",\n        \"std\": 688.3458433084346,\n        \"min\": 1.0,\n        \"max\": 2384.0,\n        \"num_unique_values\": 2384,\n        \"samples\": [\n          1623.0,\n          1651.0,\n          1128.0\n        ],\n        \"semantic_type\": \"\",\n        \"description\": \"\"\n      }\n    }\n  ]\n}"
            }
          },
          "metadata": {},
          "execution_count": 41
        }
      ]
    },
    {
      "cell_type": "code",
      "source": [
        "romeo_juliet_df.head()"
      ],
      "metadata": {
        "colab": {
          "base_uri": "https://localhost:8080/",
          "height": 206
        },
        "id": "_XwnQqATXulW",
        "outputId": "51a61892-9c85-4ee6-85cf-a7e1648f6465"
      },
      "execution_count": null,
      "outputs": [
        {
          "output_type": "execute_result",
          "data": {
            "text/plain": [
              "     act     scene character                                      dialogue  \\\n",
              "0  Act I  Prologue    Chorus        Two households, both alike in dignity,   \n",
              "1  Act I  Prologue    Chorus       In fair Verona, where we lay our scene,   \n",
              "2  Act I  Prologue    Chorus      From ancient grudge break to new mutiny,   \n",
              "3  Act I  Prologue    Chorus  Where civil blood makes civil hands unclean.   \n",
              "4  Act I  Prologue    Chorus  From forth the fatal loins of these two foes   \n",
              "\n",
              "   line_number  \n",
              "0          1.0  \n",
              "1          2.0  \n",
              "2          3.0  \n",
              "3          4.0  \n",
              "4          5.0  "
            ],
            "text/html": [
              "\n",
              "  <div id=\"df-47dfd6c8-2db6-4bfb-af2e-3216a473d1bf\" class=\"colab-df-container\">\n",
              "    <div>\n",
              "<style scoped>\n",
              "    .dataframe tbody tr th:only-of-type {\n",
              "        vertical-align: middle;\n",
              "    }\n",
              "\n",
              "    .dataframe tbody tr th {\n",
              "        vertical-align: top;\n",
              "    }\n",
              "\n",
              "    .dataframe thead th {\n",
              "        text-align: right;\n",
              "    }\n",
              "</style>\n",
              "<table border=\"1\" class=\"dataframe\">\n",
              "  <thead>\n",
              "    <tr style=\"text-align: right;\">\n",
              "      <th></th>\n",
              "      <th>act</th>\n",
              "      <th>scene</th>\n",
              "      <th>character</th>\n",
              "      <th>dialogue</th>\n",
              "      <th>line_number</th>\n",
              "    </tr>\n",
              "  </thead>\n",
              "  <tbody>\n",
              "    <tr>\n",
              "      <th>0</th>\n",
              "      <td>Act I</td>\n",
              "      <td>Prologue</td>\n",
              "      <td>Chorus</td>\n",
              "      <td>Two households, both alike in dignity,</td>\n",
              "      <td>1.0</td>\n",
              "    </tr>\n",
              "    <tr>\n",
              "      <th>1</th>\n",
              "      <td>Act I</td>\n",
              "      <td>Prologue</td>\n",
              "      <td>Chorus</td>\n",
              "      <td>In fair Verona, where we lay our scene,</td>\n",
              "      <td>2.0</td>\n",
              "    </tr>\n",
              "    <tr>\n",
              "      <th>2</th>\n",
              "      <td>Act I</td>\n",
              "      <td>Prologue</td>\n",
              "      <td>Chorus</td>\n",
              "      <td>From ancient grudge break to new mutiny,</td>\n",
              "      <td>3.0</td>\n",
              "    </tr>\n",
              "    <tr>\n",
              "      <th>3</th>\n",
              "      <td>Act I</td>\n",
              "      <td>Prologue</td>\n",
              "      <td>Chorus</td>\n",
              "      <td>Where civil blood makes civil hands unclean.</td>\n",
              "      <td>4.0</td>\n",
              "    </tr>\n",
              "    <tr>\n",
              "      <th>4</th>\n",
              "      <td>Act I</td>\n",
              "      <td>Prologue</td>\n",
              "      <td>Chorus</td>\n",
              "      <td>From forth the fatal loins of these two foes</td>\n",
              "      <td>5.0</td>\n",
              "    </tr>\n",
              "  </tbody>\n",
              "</table>\n",
              "</div>\n",
              "    <div class=\"colab-df-buttons\">\n",
              "\n",
              "  <div class=\"colab-df-container\">\n",
              "    <button class=\"colab-df-convert\" onclick=\"convertToInteractive('df-47dfd6c8-2db6-4bfb-af2e-3216a473d1bf')\"\n",
              "            title=\"Convert this dataframe to an interactive table.\"\n",
              "            style=\"display:none;\">\n",
              "\n",
              "  <svg xmlns=\"http://www.w3.org/2000/svg\" height=\"24px\" viewBox=\"0 -960 960 960\">\n",
              "    <path d=\"M120-120v-720h720v720H120Zm60-500h600v-160H180v160Zm220 220h160v-160H400v160Zm0 220h160v-160H400v160ZM180-400h160v-160H180v160Zm440 0h160v-160H620v160ZM180-180h160v-160H180v160Zm440 0h160v-160H620v160Z\"/>\n",
              "  </svg>\n",
              "    </button>\n",
              "\n",
              "  <style>\n",
              "    .colab-df-container {\n",
              "      display:flex;\n",
              "      gap: 12px;\n",
              "    }\n",
              "\n",
              "    .colab-df-convert {\n",
              "      background-color: #E8F0FE;\n",
              "      border: none;\n",
              "      border-radius: 50%;\n",
              "      cursor: pointer;\n",
              "      display: none;\n",
              "      fill: #1967D2;\n",
              "      height: 32px;\n",
              "      padding: 0 0 0 0;\n",
              "      width: 32px;\n",
              "    }\n",
              "\n",
              "    .colab-df-convert:hover {\n",
              "      background-color: #E2EBFA;\n",
              "      box-shadow: 0px 1px 2px rgba(60, 64, 67, 0.3), 0px 1px 3px 1px rgba(60, 64, 67, 0.15);\n",
              "      fill: #174EA6;\n",
              "    }\n",
              "\n",
              "    .colab-df-buttons div {\n",
              "      margin-bottom: 4px;\n",
              "    }\n",
              "\n",
              "    [theme=dark] .colab-df-convert {\n",
              "      background-color: #3B4455;\n",
              "      fill: #D2E3FC;\n",
              "    }\n",
              "\n",
              "    [theme=dark] .colab-df-convert:hover {\n",
              "      background-color: #434B5C;\n",
              "      box-shadow: 0px 1px 3px 1px rgba(0, 0, 0, 0.15);\n",
              "      filter: drop-shadow(0px 1px 2px rgba(0, 0, 0, 0.3));\n",
              "      fill: #FFFFFF;\n",
              "    }\n",
              "  </style>\n",
              "\n",
              "    <script>\n",
              "      const buttonEl =\n",
              "        document.querySelector('#df-47dfd6c8-2db6-4bfb-af2e-3216a473d1bf button.colab-df-convert');\n",
              "      buttonEl.style.display =\n",
              "        google.colab.kernel.accessAllowed ? 'block' : 'none';\n",
              "\n",
              "      async function convertToInteractive(key) {\n",
              "        const element = document.querySelector('#df-47dfd6c8-2db6-4bfb-af2e-3216a473d1bf');\n",
              "        const dataTable =\n",
              "          await google.colab.kernel.invokeFunction('convertToInteractive',\n",
              "                                                    [key], {});\n",
              "        if (!dataTable) return;\n",
              "\n",
              "        const docLinkHtml = 'Like what you see? Visit the ' +\n",
              "          '<a target=\"_blank\" href=https://colab.research.google.com/notebooks/data_table.ipynb>data table notebook</a>'\n",
              "          + ' to learn more about interactive tables.';\n",
              "        element.innerHTML = '';\n",
              "        dataTable['output_type'] = 'display_data';\n",
              "        await google.colab.output.renderOutput(dataTable, element);\n",
              "        const docLink = document.createElement('div');\n",
              "        docLink.innerHTML = docLinkHtml;\n",
              "        element.appendChild(docLink);\n",
              "      }\n",
              "    </script>\n",
              "  </div>\n",
              "\n",
              "\n",
              "<div id=\"df-b86a9c51-182e-488c-8bdb-e139027efcdc\">\n",
              "  <button class=\"colab-df-quickchart\" onclick=\"quickchart('df-b86a9c51-182e-488c-8bdb-e139027efcdc')\"\n",
              "            title=\"Suggest charts\"\n",
              "            style=\"display:none;\">\n",
              "\n",
              "<svg xmlns=\"http://www.w3.org/2000/svg\" height=\"24px\"viewBox=\"0 0 24 24\"\n",
              "     width=\"24px\">\n",
              "    <g>\n",
              "        <path d=\"M19 3H5c-1.1 0-2 .9-2 2v14c0 1.1.9 2 2 2h14c1.1 0 2-.9 2-2V5c0-1.1-.9-2-2-2zM9 17H7v-7h2v7zm4 0h-2V7h2v10zm4 0h-2v-4h2v4z\"/>\n",
              "    </g>\n",
              "</svg>\n",
              "  </button>\n",
              "\n",
              "<style>\n",
              "  .colab-df-quickchart {\n",
              "      --bg-color: #E8F0FE;\n",
              "      --fill-color: #1967D2;\n",
              "      --hover-bg-color: #E2EBFA;\n",
              "      --hover-fill-color: #174EA6;\n",
              "      --disabled-fill-color: #AAA;\n",
              "      --disabled-bg-color: #DDD;\n",
              "  }\n",
              "\n",
              "  [theme=dark] .colab-df-quickchart {\n",
              "      --bg-color: #3B4455;\n",
              "      --fill-color: #D2E3FC;\n",
              "      --hover-bg-color: #434B5C;\n",
              "      --hover-fill-color: #FFFFFF;\n",
              "      --disabled-bg-color: #3B4455;\n",
              "      --disabled-fill-color: #666;\n",
              "  }\n",
              "\n",
              "  .colab-df-quickchart {\n",
              "    background-color: var(--bg-color);\n",
              "    border: none;\n",
              "    border-radius: 50%;\n",
              "    cursor: pointer;\n",
              "    display: none;\n",
              "    fill: var(--fill-color);\n",
              "    height: 32px;\n",
              "    padding: 0;\n",
              "    width: 32px;\n",
              "  }\n",
              "\n",
              "  .colab-df-quickchart:hover {\n",
              "    background-color: var(--hover-bg-color);\n",
              "    box-shadow: 0 1px 2px rgba(60, 64, 67, 0.3), 0 1px 3px 1px rgba(60, 64, 67, 0.15);\n",
              "    fill: var(--button-hover-fill-color);\n",
              "  }\n",
              "\n",
              "  .colab-df-quickchart-complete:disabled,\n",
              "  .colab-df-quickchart-complete:disabled:hover {\n",
              "    background-color: var(--disabled-bg-color);\n",
              "    fill: var(--disabled-fill-color);\n",
              "    box-shadow: none;\n",
              "  }\n",
              "\n",
              "  .colab-df-spinner {\n",
              "    border: 2px solid var(--fill-color);\n",
              "    border-color: transparent;\n",
              "    border-bottom-color: var(--fill-color);\n",
              "    animation:\n",
              "      spin 1s steps(1) infinite;\n",
              "  }\n",
              "\n",
              "  @keyframes spin {\n",
              "    0% {\n",
              "      border-color: transparent;\n",
              "      border-bottom-color: var(--fill-color);\n",
              "      border-left-color: var(--fill-color);\n",
              "    }\n",
              "    20% {\n",
              "      border-color: transparent;\n",
              "      border-left-color: var(--fill-color);\n",
              "      border-top-color: var(--fill-color);\n",
              "    }\n",
              "    30% {\n",
              "      border-color: transparent;\n",
              "      border-left-color: var(--fill-color);\n",
              "      border-top-color: var(--fill-color);\n",
              "      border-right-color: var(--fill-color);\n",
              "    }\n",
              "    40% {\n",
              "      border-color: transparent;\n",
              "      border-right-color: var(--fill-color);\n",
              "      border-top-color: var(--fill-color);\n",
              "    }\n",
              "    60% {\n",
              "      border-color: transparent;\n",
              "      border-right-color: var(--fill-color);\n",
              "    }\n",
              "    80% {\n",
              "      border-color: transparent;\n",
              "      border-right-color: var(--fill-color);\n",
              "      border-bottom-color: var(--fill-color);\n",
              "    }\n",
              "    90% {\n",
              "      border-color: transparent;\n",
              "      border-bottom-color: var(--fill-color);\n",
              "    }\n",
              "  }\n",
              "</style>\n",
              "\n",
              "  <script>\n",
              "    async function quickchart(key) {\n",
              "      const quickchartButtonEl =\n",
              "        document.querySelector('#' + key + ' button');\n",
              "      quickchartButtonEl.disabled = true;  // To prevent multiple clicks.\n",
              "      quickchartButtonEl.classList.add('colab-df-spinner');\n",
              "      try {\n",
              "        const charts = await google.colab.kernel.invokeFunction(\n",
              "            'suggestCharts', [key], {});\n",
              "      } catch (error) {\n",
              "        console.error('Error during call to suggestCharts:', error);\n",
              "      }\n",
              "      quickchartButtonEl.classList.remove('colab-df-spinner');\n",
              "      quickchartButtonEl.classList.add('colab-df-quickchart-complete');\n",
              "    }\n",
              "    (() => {\n",
              "      let quickchartButtonEl =\n",
              "        document.querySelector('#df-b86a9c51-182e-488c-8bdb-e139027efcdc button');\n",
              "      quickchartButtonEl.style.display =\n",
              "        google.colab.kernel.accessAllowed ? 'block' : 'none';\n",
              "    })();\n",
              "  </script>\n",
              "</div>\n",
              "\n",
              "    </div>\n",
              "  </div>\n"
            ],
            "application/vnd.google.colaboratory.intrinsic+json": {
              "type": "dataframe",
              "variable_name": "romeo_juliet_df",
              "summary": "{\n  \"name\": \"romeo_juliet_df\",\n  \"rows\": 3282,\n  \"fields\": [\n    {\n      \"column\": \"act\",\n      \"properties\": {\n        \"dtype\": \"category\",\n        \"num_unique_values\": 5,\n        \"samples\": [\n          \"Act II\",\n          \"Act V\",\n          \"Act III\"\n        ],\n        \"semantic_type\": \"\",\n        \"description\": \"\"\n      }\n    },\n    {\n      \"column\": \"scene\",\n      \"properties\": {\n        \"dtype\": \"category\",\n        \"num_unique_values\": 7,\n        \"samples\": [\n          \"Prologue\",\n          \"Scene I\",\n          \"Scene V\"\n        ],\n        \"semantic_type\": \"\",\n        \"description\": \"\"\n      }\n    },\n    {\n      \"column\": \"character\",\n      \"properties\": {\n        \"dtype\": \"category\",\n        \"num_unique_values\": 35,\n        \"samples\": [\n          \"Musician\",\n          \"Romeo\",\n          \"First Musician\"\n        ],\n        \"semantic_type\": \"\",\n        \"description\": \"\"\n      }\n    },\n    {\n      \"column\": \"dialogue\",\n      \"properties\": {\n        \"dtype\": \"string\",\n        \"num_unique_values\": 3205,\n        \"samples\": [\n          \"shift a trencher? he scrape a trencher!\",\n          \"Kisses him\",\n          \"Exeunt JULIET and Nurse\"\n        ],\n        \"semantic_type\": \"\",\n        \"description\": \"\"\n      }\n    },\n    {\n      \"column\": \"line_number\",\n      \"properties\": {\n        \"dtype\": \"number\",\n        \"std\": 893.0165172044692,\n        \"min\": 1.0,\n        \"max\": 3093.0,\n        \"num_unique_values\": 3093,\n        \"samples\": [\n          2442.0,\n          2219.0,\n          2246.0\n        ],\n        \"semantic_type\": \"\",\n        \"description\": \"\"\n      }\n    }\n  ]\n}"
            }
          },
          "metadata": {},
          "execution_count": 42
        }
      ]
    },
    {
      "cell_type": "code",
      "source": [
        "# Função para agrupar por cena e formatar corretamente\n",
        "def format_scene(df_scene):\n",
        "    \"\"\"Formata uma cena inteira mantendo personagens e direções de palco\"\"\"\n",
        "    formatted_scene = []\n",
        "\n",
        "    for _, row in df_scene.iterrows():\n",
        "        character = row['character']\n",
        "        dialogue = row['dialogue']\n",
        "\n",
        "        if character == \"[stage direction]\":\n",
        "            # Formatar direções de palco em itálico\n",
        "            formatted_scene.append(f\"[{dialogue}]\")\n",
        "        else:\n",
        "            # Formatar fala de personagem\n",
        "            formatted_scene.append(f\"{character}: {dialogue}\")\n",
        "\n",
        "    return \"\\n\".join(formatted_scene)"
      ],
      "metadata": {
        "id": "bEjy0MZ5Y3NO"
      },
      "execution_count": null,
      "outputs": []
    },
    {
      "cell_type": "code",
      "source": [
        "# Função para extrair monólogos (falas longas de um personagem)\n",
        "def extract_monologues(df, min_lines=5):\n",
        "    \"\"\"Encontra monólogos (falas consecutivas de um mesmo personagem)\"\"\"\n",
        "    monologues = []\n",
        "    current_character = None\n",
        "    current_monologue = []\n",
        "\n",
        "    for _, row in df.iterrows():\n",
        "        character = row['character']\n",
        "        dialogue = row['dialogue']\n",
        "\n",
        "        # Pular direções de palco\n",
        "        if character == \"[stage direction]\":\n",
        "            continue\n",
        "\n",
        "        # Se mudar de personagem, verificar se temos um monólogo\n",
        "        if character != current_character:\n",
        "            if current_character and len(current_monologue) >= min_lines:\n",
        "                monologues.append({\n",
        "                    \"character\": current_character,\n",
        "                    \"text\": \"\\n\".join(current_monologue)\n",
        "                })\n",
        "            current_character = character\n",
        "            current_monologue = [dialogue]\n",
        "        else:\n",
        "            current_monologue.append(dialogue)\n",
        "\n",
        "    # Verificar o último monólogo\n",
        "    if current_character and len(current_monologue) >= min_lines:\n",
        "        monologues.append({\n",
        "            \"character\": current_character,\n",
        "            \"text\": \"\\n\".join(current_monologue)\n",
        "        })\n",
        "\n",
        "    return monologues"
      ],
      "metadata": {
        "id": "RcR0bocJZHMh"
      },
      "execution_count": null,
      "outputs": []
    },
    {
      "cell_type": "code",
      "source": [
        "# Criar exemplos de fine-tuning para cenas completas\n",
        "def create_scene_examples(df):\n",
        "    examples = []\n",
        "\n",
        "    # Agrupar por ato e cena\n",
        "    grouped = df.groupby(['act', 'scene'])\n",
        "\n",
        "    for (act, scene), group in grouped:\n",
        "        formatted_scene = format_scene(group)\n",
        "\n",
        "        # Criar um tema baseado no conteúdo da cena\n",
        "        if \"murder\" in formatted_scene.lower() or \"kill\" in formatted_scene.lower():\n",
        "            tema = \"assassinato e vingança\"\n",
        "        elif \"love\" in formatted_scene.lower():\n",
        "            tema = \"amor proibido\"\n",
        "        elif \"ghost\" in formatted_scene.lower():\n",
        "            tema = \"encontro com um fantasma\"\n",
        "        elif \"witch\" in formatted_scene.lower():\n",
        "            tema = \"bruxaria e premonição\"\n",
        "        else:\n",
        "            tema = \"conflito entre personagens nobres\"\n",
        "\n",
        "        # Criar exemplo no formato JSONL\n",
        "        example = {\n",
        "            \"messages\": [\n",
        "                {\"role\": \"system\", \"content\": \"Você é William Shakespeare, o dramaturgo. Escreva no estilo autêntico de suas peças, usando linguagem arcaica, riqueza vocabular, estruturas dramáticas precisas (pentâmetro iâmbico, verso livre) e indicações de palco, metáforas, trocadilhos.\"},\n",
        "                {\"role\": \"user\", \"content\": f\"Escreva uma cena shakespeariana sobre {tema}.\"},\n",
        "                {\"role\": \"assistant\", \"content\": formatted_scene}\n",
        "            ]\n",
        "        }\n",
        "        examples.append(example)\n",
        "\n",
        "    return examples"
      ],
      "metadata": {
        "id": "DWc0vI1WaLqA"
      },
      "execution_count": null,
      "outputs": []
    },
    {
      "cell_type": "code",
      "source": [
        "# Criar exemplos de fine-tuning para monólogos\n",
        "def create_monologue_examples(df):\n",
        "    examples = []\n",
        "    monologues = extract_monologues(df)\n",
        "\n",
        "    for mono in monologues:\n",
        "        character = mono[\"character\"]\n",
        "        text = mono[\"text\"]\n",
        "\n",
        "        # Criar tema com base no conteúdo do monólogo\n",
        "        if \"be or not to be\" in text.lower():\n",
        "            tema = \"contemplação da morte\"\n",
        "        elif \"wherefore art thou\" in text.lower():\n",
        "            tema = \"amor impossível\"\n",
        "        elif \"dagger\" in text.lower():\n",
        "            tema = \"culpa e alucinação\"\n",
        "        else:\n",
        "            # Temas genéricos para outros monólogos\n",
        "            temas = [\"reflexão filosófica\", \"dilema moral\", \"lamento pessoal\",\n",
        "                    \"ambição desmedida\", \"desespero humano\", \"confronto com o destino\"]\n",
        "            tema = random.choice(temas)\n",
        "\n",
        "        example = {\n",
        "            \"messages\": [\n",
        "                {\"role\": \"system\", \"content\": \"Você é William Shakespeare. Escreva monólogos dramáticos no seu estilo característico, usando pentâmetro iâmbico e linguagem arcaica rica em metáforas.\"},\n",
        "                {\"role\": \"user\", \"content\": f\"Escreva um monólogo shakespeariano para um personagem contemplando {tema}.\"},\n",
        "                {\"role\": \"assistant\", \"content\": f\"{character}:\\n{text}\"}\n",
        "            ]\n",
        "        }\n",
        "        examples.append(example)\n",
        "\n",
        "    return examples"
      ],
      "metadata": {
        "id": "Ry3B7DkwbCIb"
      },
      "execution_count": null,
      "outputs": []
    },
    {
      "cell_type": "code",
      "source": [
        "# Combinar exemplos de todas as peças\n",
        "all_examples = []\n",
        "\n",
        "# Cenas\n",
        "all_examples.extend(create_scene_examples(hamlet_df))\n",
        "all_examples.extend(create_scene_examples(macbeth_df))\n",
        "all_examples.extend(create_scene_examples(romeo_juliet_df))\n",
        "\n",
        "# Monólogos\n",
        "all_examples.extend(create_monologue_examples(hamlet_df))\n",
        "all_examples.extend(create_monologue_examples(macbeth_df))\n",
        "all_examples.extend(create_monologue_examples(romeo_juliet_df))\n",
        "\n",
        "# Limitar exemplos se necessário\n",
        "if len(all_examples) > 100:\n",
        "    all_examples = random.sample(all_examples, 100)\n",
        "\n",
        "# Salvar no formato JSONL\n",
        "with open(\"shakespeare_plays_finetuning.jsonl\", \"w\") as f:\n",
        "    for example in all_examples:\n",
        "        f.write(json.dumps(example) + \"\\n\")\n",
        "\n",
        "print(f\"Criados {len(all_examples)} exemplos para fine-tuning\")"
      ],
      "metadata": {
        "colab": {
          "base_uri": "https://localhost:8080/"
        },
        "id": "h7v4QFsPbGOt",
        "outputId": "dda75f14-b677-4460-8f98-d0ba62af98c9"
      },
      "execution_count": null,
      "outputs": [
        {
          "output_type": "stream",
          "name": "stdout",
          "text": [
            "Criados 100 exemplos para fine-tuning\n"
          ]
        }
      ]
    },
    {
      "cell_type": "code",
      "source": [
        "# Exibir 3 exemplos aleatórios para verificação\n",
        "\n",
        "sample_examples = random.sample(all_examples, 3)\n",
        "for i, example in enumerate(sample_examples):\n",
        "    print(f\"\\n--- Exemplo {i+1} ---\")\n",
        "    print(f\"Sistema: {example['messages'][0]['content']}\")\n",
        "    print(f\"Usuário: {example['messages'][1]['content']}\")\n",
        "    print(f\"Assistente (primeiras 100 chars): {example['messages'][2]['content'][:100]}...\")"
      ],
      "metadata": {
        "colab": {
          "base_uri": "https://localhost:8080/"
        },
        "id": "39bh4uTvcYWi",
        "outputId": "40d6b482-4222-4e16-d74a-701e4b76b7b7"
      },
      "execution_count": null,
      "outputs": [
        {
          "output_type": "stream",
          "name": "stdout",
          "text": [
            "\n",
            "--- Exemplo 1 ---\n",
            "Sistema: Você é William Shakespeare. Escreva monólogos dramáticos no seu estilo característico, usando pentâmetro iâmbico e linguagem arcaica rica em metáforas.\n",
            "Usuário: Escreva um monólogo shakespeariano para um personagem contemplando confronto com o destino.\n",
            "Assistente (primeiras 100 chars): Hamlet:\n",
            "The Mouse-trap. Marry, how? Tropically. This play\n",
            "is the image of a murder done in Vienna: G...\n",
            "\n",
            "--- Exemplo 2 ---\n",
            "Sistema: Você é William Shakespeare. Escreva monólogos dramáticos no seu estilo característico, usando pentâmetro iâmbico e linguagem arcaica rica em metáforas.\n",
            "Usuário: Escreva um monólogo shakespeariano para um personagem contemplando confronto com o destino.\n",
            "Assistente (primeiras 100 chars): Hamlet:\n",
            "So long? Nay then, let the devil wear black, for\n",
            "I'll have a suit of sables. O heavens! die ...\n",
            "\n",
            "--- Exemplo 3 ---\n",
            "Sistema: Você é William Shakespeare. Escreva monólogos dramáticos no seu estilo característico, usando pentâmetro iâmbico e linguagem arcaica rica em metáforas.\n",
            "Usuário: Escreva um monólogo shakespeariano para um personagem contemplando lamento pessoal.\n",
            "Assistente (primeiras 100 chars): Hamlet:\n",
            "'Tis well: I'll have thee speak out the rest soon.\n",
            "Good my lord, will you see the players we...\n"
          ]
        }
      ]
    },
    {
      "cell_type": "markdown",
      "source": [
        "## Fine-tuning"
      ],
      "metadata": {
        "id": "Ot4hTSrCJBRD"
      }
    },
    {
      "cell_type": "code",
      "source": [
        "def monitor_job(job_id):\n",
        "    \"\"\"Monitor fine-tuning job progress\"\"\"\n",
        "    while True:\n",
        "        job = client.fine_tuning.jobs.retrieve(job_id)\n",
        "        print(f\"Status: {job.status}\")\n",
        "\n",
        "        if job.status in [\"succeeded\", \"failed\"]:\n",
        "            return job\n",
        "\n",
        "        # List latest events\n",
        "        events = client.fine_tuning.jobs.list_events(\n",
        "            fine_tuning_job_id=job_id,\n",
        "            limit=5\n",
        "        )\n",
        "        for event in events.data:\n",
        "            print(f\"Event: {event.message}\")\n",
        "\n",
        "        sleep(20)  # Check every 20 seconds\n"
      ],
      "metadata": {
        "id": "wOiSdx_lc_35"
      },
      "execution_count": null,
      "outputs": []
    },
    {
      "cell_type": "code",
      "source": [
        "# Upload do arquivo JSONL\n",
        "with open(\"/content/shakespeare_plays_finetuning.jsonl\", \"rb\") as file:\n",
        "    response = client.files.create(\n",
        "        file=file,\n",
        "        purpose=\"fine-tune\"\n",
        "    )\n",
        "    file_id = response.id\n",
        "    print(f\"Arquivo carregado com ID: {file_id}\")\n",
        "\n",
        "# Criar o job de fine-tuning\n",
        "create_job = client.fine_tuning.jobs.create(\n",
        "    training_file=file_id,\n",
        "    model=\"gpt-4o-mini-2024-07-18\",  # Custo-benefício melhor\n",
        "    method={\n",
        "        \"type\": \"supervised\",\n",
        "        \"supervised\": {\n",
        "            \"hyperparameters\": {\n",
        "                \"n_epochs\": 2,\n",
        "                \"learning_rate_multiplier\": 0.2,\n",
        "                \"batch_size\": 16\n",
        "            },\n",
        "        }\n",
        "    }\n",
        ")\n",
        "\n",
        "job_id = create_job.id\n",
        "print(f\"Fine-tuning iniciado! Job ID: {job_id}\")"
      ],
      "metadata": {
        "colab": {
          "base_uri": "https://localhost:8080/"
        },
        "id": "Fg_m9nwRcjr1",
        "outputId": "b1555356-5556-4aa2-e9f3-c1191fbb4414"
      },
      "execution_count": null,
      "outputs": [
        {
          "output_type": "stream",
          "name": "stdout",
          "text": [
            "Arquivo carregado com ID: file-WcjBxVD2F1RNAU9EyGiz41\n",
            "Fine-tuning iniciado! Job ID: ftjob-kLCUkXVxh7fvtdK2aYye3HhO\n"
          ]
        }
      ]
    },
    {
      "cell_type": "code",
      "source": [
        "# Monitor the job until completion\n",
        "curr_job = monitor_job(job_id)\n",
        "if curr_job.status == \"succeeded\":\n",
        "    fine_tuned_model = curr_job.fine_tuned_model\n",
        "    print(f\"Fine-tuned model ID: {fine_tuned_model}\")\n",
        "else:\n",
        "    print(\"Fine-tuning falhou.\")\n"
      ],
      "metadata": {
        "colab": {
          "base_uri": "https://localhost:8080/"
        },
        "id": "8ow5InNdeYHj",
        "outputId": "58245e15-81e8-4b5d-a4cc-0f77fb19cfe6"
      },
      "execution_count": null,
      "outputs": [
        {
          "output_type": "stream",
          "name": "stdout",
          "text": [
            "Status: validating_files\n",
            "Event: Validating training file: file-WcjBxVD2F1RNAU9EyGiz41\n",
            "Event: Created fine-tuning job: ftjob-kLCUkXVxh7fvtdK2aYye3HhO\n",
            "Status: validating_files\n",
            "Event: Validating training file: file-WcjBxVD2F1RNAU9EyGiz41\n",
            "Event: Created fine-tuning job: ftjob-kLCUkXVxh7fvtdK2aYye3HhO\n",
            "Status: validating_files\n",
            "Event: Validating training file: file-WcjBxVD2F1RNAU9EyGiz41\n",
            "Event: Created fine-tuning job: ftjob-kLCUkXVxh7fvtdK2aYye3HhO\n",
            "Status: validating_files\n",
            "Event: Validating training file: file-WcjBxVD2F1RNAU9EyGiz41\n",
            "Event: Created fine-tuning job: ftjob-kLCUkXVxh7fvtdK2aYye3HhO\n",
            "Status: validating_files\n",
            "Event: Validating training file: file-WcjBxVD2F1RNAU9EyGiz41\n",
            "Event: Created fine-tuning job: ftjob-kLCUkXVxh7fvtdK2aYye3HhO\n",
            "Status: running\n",
            "Event: Fine-tuning job started\n",
            "Event: Files validated, moving job to queued state\n",
            "Event: Validating training file: file-WcjBxVD2F1RNAU9EyGiz41\n",
            "Event: Created fine-tuning job: ftjob-kLCUkXVxh7fvtdK2aYye3HhO\n",
            "Status: running\n",
            "Event: Fine-tuning job started\n",
            "Event: Files validated, moving job to queued state\n",
            "Event: Validating training file: file-WcjBxVD2F1RNAU9EyGiz41\n",
            "Event: Created fine-tuning job: ftjob-kLCUkXVxh7fvtdK2aYye3HhO\n",
            "Status: running\n",
            "Event: Fine-tuning job started\n",
            "Event: Files validated, moving job to queued state\n",
            "Event: Validating training file: file-WcjBxVD2F1RNAU9EyGiz41\n",
            "Event: Created fine-tuning job: ftjob-kLCUkXVxh7fvtdK2aYye3HhO\n",
            "Status: running\n",
            "Event: Fine-tuning job started\n",
            "Event: Files validated, moving job to queued state\n",
            "Event: Validating training file: file-WcjBxVD2F1RNAU9EyGiz41\n",
            "Event: Created fine-tuning job: ftjob-kLCUkXVxh7fvtdK2aYye3HhO\n",
            "Status: running\n",
            "Event: Fine-tuning job started\n",
            "Event: Files validated, moving job to queued state\n",
            "Event: Validating training file: file-WcjBxVD2F1RNAU9EyGiz41\n",
            "Event: Created fine-tuning job: ftjob-kLCUkXVxh7fvtdK2aYye3HhO\n",
            "Status: running\n",
            "Event: Fine-tuning job started\n",
            "Event: Files validated, moving job to queued state\n",
            "Event: Validating training file: file-WcjBxVD2F1RNAU9EyGiz41\n",
            "Event: Created fine-tuning job: ftjob-kLCUkXVxh7fvtdK2aYye3HhO\n",
            "Status: running\n",
            "Event: Fine-tuning job started\n",
            "Event: Files validated, moving job to queued state\n",
            "Event: Validating training file: file-WcjBxVD2F1RNAU9EyGiz41\n",
            "Event: Created fine-tuning job: ftjob-kLCUkXVxh7fvtdK2aYye3HhO\n",
            "Status: running\n",
            "Event: Step 8/13: training loss=0.41\n",
            "Event: Step 7/13: training loss=0.35\n",
            "Event: Step 6/13: training loss=0.29\n",
            "Event: Step 5/13: training loss=0.46\n",
            "Event: Step 4/13: training loss=0.76\n",
            "Status: running\n",
            "Event: Step 10/13: training loss=0.30\n",
            "Event: Step 9/13: training loss=0.30\n",
            "Event: Step 8/13: training loss=0.41\n",
            "Event: Step 7/13: training loss=0.35\n",
            "Event: Step 6/13: training loss=0.29\n",
            "Status: running\n",
            "Event: New fine-tuned model created\n",
            "Event: Checkpoint created at step 7\n",
            "Event: Step 13/13: training loss=0.29\n",
            "Event: Step 12/13: training loss=0.23\n",
            "Event: Step 11/13: training loss=0.48\n",
            "Status: succeeded\n",
            "Fine-tuned model ID: ft:gpt-4o-mini-2024-07-18:hendrik::BJkuBW58\n"
          ]
        }
      ]
    },
    {
      "cell_type": "markdown",
      "source": [
        "## Criacao, Execucao da Aplicação e Testes dos Modelos"
      ],
      "metadata": {
        "id": "L31dnUnHyxi4"
      }
    },
    {
      "cell_type": "markdown",
      "source": [
        "Models:\n",
        "\n",
        " - fine-tunados com 20 exemplos do dataset umerhaddii/shakespeare-plays-dialogues\n",
        "    1. ft:gpt-4o-mini-2024-07-18:hendrik::BJ8DAYRn  \n",
        "      - overfitting\n",
        "      - epochs: 3\n",
        "    2. ft:gpt-4o-mini-2024-07-18:hendrik::BJ95WQdI\n",
        "      - epochs: 1, learning_rate: 0.1\n",
        "    3. ft:gpt-4o-mini-2024-07-18:hendrik::BJa2oeL5\n",
        "      - epochs: 1, learning_rate: 0.1, batch_size = 8\n",
        "  \n",
        "  \n",
        "  - fine-tunados com 50 exemplos do dataset umerhaddii/shakespeare-plays-dialogues\n",
        "    4. ft:gpt-4o-mini-2024-07-18:hendrik::BJkjPlqi\n",
        "      - epochs: 1, learning_rate: 0.15, batch_size: 8\n",
        "  - fine-tunados com 100 exemplos do dataset umerhaddii/shakespeare-plays-dialogues\n",
        "    5. ft:gpt-4o-mini-2024-07-18:hendrik::BJkuBW58\n",
        "      - epochs: 2, learning_rate: 0.2, batch_size: 16"
      ],
      "metadata": {
        "id": "AaIhc52jJfkZ"
      }
    },
    {
      "cell_type": "code",
      "source": [
        "model1 = \"ft:gpt-4o-mini-2024-07-18:hendrik::BJ8DAYRn\"\n",
        "model2 = \"ft:gpt-4o-mini-2024-07-18:hendrik::BJ95WQdI\"\n",
        "model3 = \"ft:gpt-4o-mini-2024-07-18:hendrik::BJa2oeL5\"\n",
        "model4 = \"ft:gpt-4o-mini-2024-07-18:hendrik::BJkjPlqi\"\n",
        "model5 = \"ft:gpt-4o-mini-2024-07-18:hendrik::BJkuBW58\""
      ],
      "metadata": {
        "id": "dgCHX2GTKrjG"
      },
      "execution_count": null,
      "outputs": []
    },
    {
      "cell_type": "code",
      "source": [
        "def gerar_texto_shakespeare(tema, tipo_texto=\"cena\", personagens=2, temperatura=0.8, model=\"gpt-4\"):\n",
        "    \"\"\"Usa o modelo fine-tuned para gerar texto shakespeariano\"\"\"\n",
        "    max_tks = 1500\n",
        "    # Adaptar prompt com base no tipo de texto\n",
        "    if tipo_texto == \"cena\":\n",
        "        content = f\"Crie uma cena original e nova (nova=que nao consta nas obras de shakespeare) no estilo autêntico de Shakespeare sobre '{tema}' com {personagens} personagens novos e originais. Incorpore linguagem e vocaulário: uso de arcaísmos, riqueza vocabular; estrutura métrica: pentâmetro iâmbico, verso livre; e figuras de linguagem e retórica: metáforas, trocadilhos.\"\n",
        "        max_tks = 2000\n",
        "    elif tipo_texto == \"monologo\":\n",
        "        content = f\"Crie um monólogo original e novo (novo=que nao consta nas obras de shakespeare) poderoso no estilo de Shakespeare sobre '{tema}'. Incorpore linguagem e vocaulário: uso de arcaísmos, riqueza vocabular; estrutura métrica: pentâmetro iâmbico, verso livre; e figuras de linguagem e retórica: metáforas, trocadilhos.\"\n",
        "        max_tks = 1200\n",
        "    else:\n",
        "        content = f\"Crie uma cena original e nova (nova=que nao consta nas obras de shakespeare) no estilo autêntico de Shakespeare sobre '{tema}' com {personagens} personagens novos e originais. Incorpore linguagem e vocaulário: uso de arcaísmos, riqueza vocabular; estrutura métrica: pentâmetro iâmbico, verso livre; e figuras de linguagem e retórica: metáforas, trocadilhos.\"\n",
        "\n",
        "    # Chamada à API com o modelo fine-tuned\n",
        "    response = client.chat.completions.create(\n",
        "        model=model,\n",
        "        messages=[\n",
        "            {\"role\": \"system\", \"content\": \"Você é William Shakespeare, o dramaturgo.\"},\n",
        "            {\"role\": \"user\", \"content\": content}\n",
        "        ],\n",
        "        temperature = temperatura,\n",
        "        max_tokens=max_tks\n",
        "    )\n",
        "\n",
        "    return response.choices[0].message.content"
      ],
      "metadata": {
        "id": "ea_BoxISiAQe"
      },
      "execution_count": null,
      "outputs": []
    },
    {
      "cell_type": "code",
      "source": [
        "def analisar_estilo_shakespeare(texto_gerado):\n",
        "    \"\"\"Analisa o quão \"shakespeariano\" é o texto gerado\"\"\"\n",
        "\n",
        "    prompt_analise = f\"\"\"Analise o seguinte texto e avalie quanto ele se assemelha ao estilo autêntico de Shakespeare.\n",
        "\n",
        "    TEXTO:\n",
        "    {texto_gerado[:2500]}... (truncado)\n",
        "\n",
        "    Forneça uma análise detalhada considerando (escala de 1-10 para cade criterio):\n",
        "    1. Linguagem e vocabulário (uso de arcaísmos, riqueza vocabular)\n",
        "    2. Estrutura métrica (pentâmetro iâmbico, verso livre)\n",
        "    3. Figuras de linguagem e retórica (metáforas, trocadilhos)\n",
        "\n",
        "    4. Realize uma média dos criterios de autenticidade avaliados.\n",
        "\n",
        "    Realize uma análise sucinta, pórem precisa.\n",
        "    Destaque apenas os principais pontos.\n",
        "    Não leve em consideração a análise de temas e elementos sobre os quais Shakespeare nunca escreveu antes!\n",
        "    Se necessário, inclua exemplos específicos do texto que justifiquem sua avaliação.\n",
        "    \"\"\"\n",
        "\n",
        "    response = client.chat.completions.create(\n",
        "        model=\"gpt-4\",\n",
        "        messages=[\n",
        "            {\"role\": \"system\", \"content\": \"Você é um especialista em literatura shakespeariana.\"},\n",
        "            {\"role\": \"user\", \"content\": prompt_analise}\n",
        "        ],\n",
        "        temperature=0.3,\n",
        "        max_tokens=1000\n",
        "    )\n",
        "\n",
        "    return response.choices[0].message.content"
      ],
      "metadata": {
        "id": "h2E24ucoMvIH"
      },
      "execution_count": null,
      "outputs": []
    },
    {
      "cell_type": "code",
      "source": [
        "def gerar_imagem_shakespeare(texto, cena_titulo):\n",
        "    \"\"\"Gera uma imagem representando uma cena ou personagem da peça\"\"\"\n",
        "\n",
        "    # Extrair uma descrição concisa para a imagem\n",
        "    prompt_descricao = f\"\"\"\n",
        "    Com base neste texto de peça shakespeariana:\n",
        "    {texto[:1000]}...\n",
        "\n",
        "    Crie uma descrição visual concisa (máximo 50 palavras) para uma imagem dramática\n",
        "    representando a cena \"{cena_titulo}\". A descrição deve capturar a essência dramática da cena.\n",
        "    \"\"\"\n",
        "\n",
        "    descricao_response = client.chat.completions.create(\n",
        "        model=\"gpt-4\",\n",
        "        messages=[\n",
        "            {\"role\": \"system\", \"content\": \"Você é um diretor de arte especializado em teatro moderno, e renascentista.\"},\n",
        "            {\"role\": \"user\", \"content\": prompt_descricao}\n",
        "        ],\n",
        "        temperature=0.8,\n",
        "        max_tokens=100\n",
        "    )\n",
        "\n",
        "    descricao_imagem = descricao_response.choices[0].message.content\n",
        "\n",
        "    # Gerar a imagem com DALL-E\n",
        "    imagem_response = client.images.generate(\n",
        "        prompt=f\"Uma ilustração dramática que represente bem o contexto: {descricao_imagem}\",\n",
        "        n=1,\n",
        "        size=\"1024x1024\"\n",
        "    )\n",
        "\n",
        "    return imagem_response.data[0].url, descricao_imagem"
      ],
      "metadata": {
        "id": "i2ynBmNcMyz6"
      },
      "execution_count": null,
      "outputs": []
    },
    {
      "cell_type": "code",
      "source": [
        "def criar_aplicacao_shakespeare():\n",
        "    \"\"\"Cria a interface Gradio para o DeepFake Shakespeare\"\"\"\n",
        "\n",
        "    # Função que conecta todos os componentes\n",
        "    def processar_pedido(tema, tipo_texto, num_personagens):\n",
        "        # Gerar texto Shakespeare\n",
        "        texto_gerado = gerar_texto_shakespeare(tema, tipo_texto, num_personagens, model=model5) # Altere o modelo para o Gradio aqui\n",
        "        #print(texto_gerado)\n",
        "\n",
        "        # Analisar autenticidade\n",
        "        analise = analisar_estilo_shakespeare(texto_gerado)\n",
        "\n",
        "        # Gerar imagem\n",
        "        titulo_cena = f\"{tema} - {tipo_texto} shakespeariano\"\n",
        "        url_imagem, descricao_imagem = gerar_imagem_shakespeare(texto_gerado, titulo_cena)\n",
        "\n",
        "        return texto_gerado, analise, url_imagem, descricao_imagem\n",
        "\n",
        "    # Interface Gradio\n",
        "    with gr.Blocks(title=\"DeepFake Shakespeare: O Teatro que Nunca Existiu\") as app:\n",
        "        gr.Markdown(\"# 🎭 DeepFake Shakespeare: O Teatro que Nunca Existiu\")\n",
        "        gr.Markdown(\"Recrie peças shakespearianas que Shakespeare nunca escreveu, mas que poderiam ter existido!\")\n",
        "\n",
        "        with gr.Row():\n",
        "            with gr.Column():\n",
        "                tema_input = gr.Textbox(label=\"Tema da Peça\", placeholder=\"Ex: A Revolução Francesa, Napoleão, etc.\")\n",
        "                tipo_text = gr.Radio(\n",
        "                    [\"cena\", \"monologo\"],\n",
        "                    label=\"Tipo de Texto\",\n",
        "                    value=\"cena\"\n",
        "                )\n",
        "                num_personagens = gr.Slider(\n",
        "                    minimum=1,\n",
        "                    maximum=5,\n",
        "                    value=2,\n",
        "                    step=1,\n",
        "                    label=\"Número de Personagens\"\n",
        "                )\n",
        "                submit_btn = gr.Button(\"Gerar Obra Shakespeariana\")\n",
        "\n",
        "            with gr.Column():\n",
        "                img_output = gr.Image(label=\"Visualização da Cena\")\n",
        "                img_desc = gr.Textbox(label=\"Descrição da Imagem\")\n",
        "\n",
        "        with gr.Row():\n",
        "            texto_output = gr.Textbox(label=\"Texto Gerado\", lines=15)\n",
        "            analise_output = gr.Textbox(label=\"Análise de Autenticidade\", lines=15)\n",
        "\n",
        "        submit_btn.click(\n",
        "            processar_pedido,\n",
        "            inputs=[tema_input, tipo_text, num_personagens],\n",
        "            outputs=[texto_output, analise_output, img_output, img_desc]\n",
        "        )\n",
        "\n",
        "        gr.Markdown(\"## 📝 Sobre o Projeto\")\n",
        "        gr.Markdown(\"Este projeto explora o limite da originalidade da IA, recriando obras que Shakespeare nunca escreveu, mas que poderiam ter existido. Usa GPT-4o-mini com fine-tuning para gerar textos no estilo shakespeariano e DALL-E para visualizar as cenas.\")\n",
        "\n",
        "    return app"
      ],
      "metadata": {
        "id": "xFe1lhuEM1VF"
      },
      "execution_count": null,
      "outputs": []
    },
    {
      "cell_type": "code",
      "source": [
        "# Iniciar a aplicação\n",
        "demo = criar_aplicacao_shakespeare()\n",
        "# share=True cria um lanca uma demo e cria um link publico, inline=True pra visualizar no colab/notebook\n",
        "demo.launch(share=True, inline=False)"
      ],
      "metadata": {
        "colab": {
          "base_uri": "https://localhost:8080/"
        },
        "id": "O8_auDrkk6ci",
        "outputId": "6aafa4c5-6254-4b5b-b282-f30b0565fac4"
      },
      "execution_count": null,
      "outputs": [
        {
          "output_type": "stream",
          "name": "stdout",
          "text": [
            "Colab notebook detected. To show errors in colab notebook, set debug=True in launch()\n",
            "* Running on public URL: https://f3b804e9a85727edd5.gradio.live\n",
            "\n",
            "This share link expires in 72 hours. For free permanent hosting and GPU upgrades, run `gradio deploy` from the terminal in the working directory to deploy to Hugging Face Spaces (https://huggingface.co/spaces)\n"
          ]
        },
        {
          "output_type": "execute_result",
          "data": {
            "text/plain": []
          },
          "metadata": {},
          "execution_count": 53
        }
      ]
    },
    {
      "cell_type": "markdown",
      "source": [
        "### Testando e avaliando diferentes temperaturas e modelos para a geração de texto"
      ],
      "metadata": {
        "id": "SGs9iFKyr5jm"
      }
    },
    {
      "cell_type": "code",
      "source": [],
      "metadata": {
        "id": "neaMQVd0ZH6w"
      },
      "execution_count": null,
      "outputs": []
    },
    {
      "cell_type": "code",
      "source": [
        "resultados_modelgpt4 = {}\n",
        "for temp in [0.8]:\n",
        "    resultados_modelgpt4[f\"temp_{temp}\"] = gerar_texto_shakespeare(\n",
        "        \"A Revolução Industrial\",\n",
        "        temperatura=temp,\n",
        "    )"
      ],
      "metadata": {
        "id": "rTdqxMFgZINS"
      },
      "execution_count": null,
      "outputs": []
    },
    {
      "cell_type": "code",
      "source": [
        "# for k,v in resultados_modelgpt4.items():\n",
        "#   print()\n",
        "#   print(k)\n",
        "#   print(v[:200])"
      ],
      "metadata": {
        "id": "DUgnaRs1ZINS"
      },
      "execution_count": null,
      "outputs": []
    },
    {
      "cell_type": "code",
      "source": [
        "analises_modelgpt4 = {}\n",
        "for temp in [0.8]:\n",
        "    analises_modelgpt4[f\"temp_{temp}\"] = analisar_estilo_shakespeare(\n",
        "        resultados_modelgpt4[f\"temp_{temp}\"]\n",
        "    )"
      ],
      "metadata": {
        "id": "ifuRpIsoZINS"
      },
      "execution_count": null,
      "outputs": []
    },
    {
      "cell_type": "code",
      "source": [
        "for k,v in analises_modelgpt4.items():\n",
        "  print()\n",
        "  print(k)\n",
        "  print(v)"
      ],
      "metadata": {
        "colab": {
          "base_uri": "https://localhost:8080/"
        },
        "id": "E2m-8wkJZINT",
        "outputId": "bc0122c5-873f-4d9f-8a62-a68f9a64035d"
      },
      "execution_count": null,
      "outputs": [
        {
          "output_type": "stream",
          "name": "stdout",
          "text": [
            "\n",
            "temp_0.8\n",
            "1. Linguagem e vocabulário: 8/10. O texto faz um bom uso de arcaísmos e do vocabulário shakespeariano, como \"Dost thou\", \"doth\", \"tis\", etc. No entanto, há algumas palavras e expressões que são mais modernas e que Shakespeare provavelmente não usaria, como \"Revolução Industrial\", \"chaminés\" e \"máquinas\".\n",
            "\n",
            "2. Estrutura métrica: 6/10. Embora haja tentativas de usar o pentâmetro iâmbico, a métrica favorita de Shakespeare, nem todos os versos seguem essa estrutura. Por exemplo, \"The chimneys belch forth smoke; the air is thick with fumes\" tem mais de dez sílabas, o que não é típico do pentâmetro iâmbico.\n",
            "\n",
            "3. Figuras de linguagem e retórica: 9/10. O texto faz um bom uso de metáforas e linguagem figurativa, que são características marcantes da escrita de Shakespeare. Por exemplo, \"We, the humble artisans, are like unto the blacksmith's anvil, oft struck and ever silent\" é uma metáfora poderosa que reflete a condição dos trabalhadores durante a Revolução Industrial.\n",
            "\n",
            "Média dos critérios de autenticidade: (8+6+9)/3 = 7.67\n",
            "\n",
            "Em resumo, o texto faz um bom trabalho ao imitar o estilo de Shakespeare em termos de linguagem, vocabulário e uso de figuras de linguagem. No entanto, a estrutura métrica poderia ser mais consistente para se assemelhar mais de perto ao pentâmetro iâmbico que Shakespeare frequentemente usava. Além disso, o uso de certos termos e conceitos modernos também diminui a autenticidade do texto.\n"
          ]
        }
      ]
    },
    {
      "cell_type": "code",
      "source": [],
      "metadata": {
        "id": "iwLMpU-dZJGL"
      },
      "execution_count": null,
      "outputs": []
    },
    {
      "cell_type": "code",
      "source": [
        "resultados_model2 = {}\n",
        "for temp in [0.8]:\n",
        "    resultados_model2[f\"temp_{temp}\"] = gerar_texto_shakespeare(\n",
        "        \"A Revolução Industrial\",\n",
        "        temperatura=temp,\n",
        "        model=model2\n",
        "    )"
      ],
      "metadata": {
        "id": "LV-Lw95NpkMV"
      },
      "execution_count": null,
      "outputs": []
    },
    {
      "cell_type": "code",
      "source": [
        "# for k,v in resultados_model2.items():\n",
        "#   print()\n",
        "#   print(k)\n",
        "#   print(v[:200])"
      ],
      "metadata": {
        "id": "GjlOVAg_p2Pl"
      },
      "execution_count": null,
      "outputs": []
    },
    {
      "cell_type": "code",
      "source": [
        "analises_model2 = {}\n",
        "for temp in [0.8]:\n",
        "    analises_model2[f\"temp_{temp}\"] = analisar_estilo_shakespeare(\n",
        "        resultados_model2[f\"temp_{temp}\"]\n",
        "    )"
      ],
      "metadata": {
        "id": "NM6ROmuTqUPJ"
      },
      "execution_count": null,
      "outputs": []
    },
    {
      "cell_type": "code",
      "source": [
        "for k,v in analises_model2.items():\n",
        "  print()\n",
        "  print(k)\n",
        "  print(v)"
      ],
      "metadata": {
        "colab": {
          "base_uri": "https://localhost:8080/"
        },
        "id": "l4pCj07zrBF2",
        "outputId": "4bc3e6b7-9450-43bb-a125-c6fb7e02f58a"
      },
      "execution_count": null,
      "outputs": [
        {
          "output_type": "stream",
          "name": "stdout",
          "text": [
            "\n",
            "temp_0.8\n",
            "1. Linguagem e vocabulário: 8. O texto demonstra um uso competente de arcaísmos e uma riqueza vocabular que se assemelha ao estilo de Shakespeare. Por exemplo, \"Oh, que sombras são estas que o céu traz contigo?\" e \"Ah, minha doce Elena, o que é progresso, senão?\" são frases que poderiam facilmente ser encontradas em uma obra de Shakespeare.\n",
            "\n",
            "2. Estrutura métrica: 6. Embora haja uma tentativa de usar o pentâmetro iâmbico, a estrutura métrica mais comum nas obras de Shakespeare, nem todos os versos seguem essa métrica. Por exemplo, \"As nuvens, cinzas como lágrimas de um pai,\" é um verso que não segue o pentâmetro iâmbico.\n",
            "\n",
            "3. Figuras de linguagem e retórica: 9. O texto está repleto de metáforas e trocadilhos, uma característica marcante do estilo de Shakespeare. Por exemplo, \"Um veneno que se arrasta nas correntes do tempo,\" é uma metáfora poderosa que evoca uma imagem vívida e emocional.\n",
            "\n",
            "Média dos critérios de autenticidade: 7.67. Embora o texto não siga perfeitamente a estrutura métrica de Shakespeare e contenha alguns anacronismos, ele faz um uso competente da linguagem e das figuras de linguagem que são características do estilo de Shakespeare. Portanto, o texto se assemelha razoavelmente bem ao estilo autêntico de Shakespeare.\n"
          ]
        }
      ]
    },
    {
      "cell_type": "code",
      "source": [],
      "metadata": {
        "id": "A_piIYOkOUqm"
      },
      "execution_count": null,
      "outputs": []
    },
    {
      "cell_type": "code",
      "source": [
        "resultados_model3 = {}\n",
        "for temp in [0.8]:\n",
        "    resultados_model3[f\"temp_{temp}\"] = gerar_texto_shakespeare(\n",
        "        \"A Revolução Industrial\",\n",
        "        temperatura=temp,\n",
        "        model=model3\n",
        "    )"
      ],
      "metadata": {
        "id": "W6TCtZsIOU6u"
      },
      "execution_count": null,
      "outputs": []
    },
    {
      "cell_type": "code",
      "source": [
        "# for k,v in resultados_model3.items():\n",
        "#   print()\n",
        "#   print(k)\n",
        "#   print(v[:200])"
      ],
      "metadata": {
        "id": "u6v4FSBnOU6u"
      },
      "execution_count": null,
      "outputs": []
    },
    {
      "cell_type": "code",
      "source": [
        "analises_model3 = {}\n",
        "for temp in [0.8]:\n",
        "    analises_model3[f\"temp_{temp}\"] = analisar_estilo_shakespeare(\n",
        "        resultados_model3[f\"temp_{temp}\"]\n",
        "    )"
      ],
      "metadata": {
        "id": "wOTOrW-vOU6u"
      },
      "execution_count": null,
      "outputs": []
    },
    {
      "cell_type": "code",
      "source": [
        "for k,v in analises_model3.items():\n",
        "  print()\n",
        "  print(k)\n",
        "  print(v)"
      ],
      "metadata": {
        "colab": {
          "base_uri": "https://localhost:8080/"
        },
        "id": "Ki_6iX_8OU6u",
        "outputId": "31e82a38-b5e7-4d5a-9e92-d12ef7e82126"
      },
      "execution_count": null,
      "outputs": [
        {
          "output_type": "stream",
          "name": "stdout",
          "text": [
            "\n",
            "temp_0.8\n",
            "1. Linguagem e vocabulário: 8/10. O texto faz um bom uso de arcaísmos e uma linguagem poética que se assemelha ao estilo de Shakespeare. No entanto, há algumas palavras e expressões que são muito modernas para o período em que Shakespeare escrevia.\n",
            "\n",
            "2. Estrutura métrica: 6/10. Embora haja uma tentativa de seguir o pentâmetro iâmbico, a métrica não é consistente em todo o texto. Shakespeare era conhecido por sua aderência estrita a essa forma de métrica.\n",
            "\n",
            "3. Figuras de linguagem e retórica: 9/10. O texto está repleto de metáforas e imagens vívidas, um traço característico do trabalho de Shakespeare. A conversa entre Lucílio e Eleanora é cheia de trocadilhos e diálogos profundos, muito ao estilo shakespeariano.\n",
            "\n",
            "Média dos critérios de autenticidade: 7,6/10.\n",
            "\n",
            "O texto faz um bom trabalho ao imitar o estilo de Shakespeare em termos de linguagem, vocabulário e uso de figuras de linguagem. No entanto, a estrutura métrica não é tão consistente quanto seria em uma obra autêntica de Shakespeare. Além disso, o tema da Revolução Industrial é claramente anacrônico para o período de Shakespeare, mas essa análise foi solicitada para ignorar tais incongruências.\n"
          ]
        }
      ]
    },
    {
      "cell_type": "code",
      "source": [],
      "metadata": {
        "id": "pPEosJyAWgMu"
      },
      "execution_count": null,
      "outputs": []
    },
    {
      "cell_type": "code",
      "source": [
        "resultados_model4 = {}\n",
        "for temp in [0.8]:\n",
        "    resultados_model4[f\"temp_{temp}\"] = gerar_texto_shakespeare(\n",
        "        \"A Revolução Industrial\",\n",
        "        temperatura=temp,\n",
        "        model=model4\n",
        "    )"
      ],
      "metadata": {
        "id": "75DXY-LdWgTJ"
      },
      "execution_count": null,
      "outputs": []
    },
    {
      "cell_type": "code",
      "source": [
        "# for k,v in resultados_model4.items():\n",
        "#   print()\n",
        "#   print(k)\n",
        "#   print(v[:200])"
      ],
      "metadata": {
        "id": "BEnGagg3WgTK"
      },
      "execution_count": null,
      "outputs": []
    },
    {
      "cell_type": "code",
      "source": [
        "analises_model4 = {}\n",
        "for temp in [0.8]:\n",
        "    analises_model4[f\"temp_{temp}\"] = analisar_estilo_shakespeare(\n",
        "        resultados_model4[f\"temp_{temp}\"]\n",
        "    )"
      ],
      "metadata": {
        "id": "VHnHZx3TWgTK"
      },
      "execution_count": null,
      "outputs": []
    },
    {
      "cell_type": "code",
      "source": [
        "for k,v in analises_model4.items():\n",
        "  print()\n",
        "  print(k)\n",
        "  print(v)"
      ],
      "metadata": {
        "colab": {
          "base_uri": "https://localhost:8080/"
        },
        "id": "Ho_CQtzNWgTK",
        "outputId": "1a0e8a4a-e279-4d20-c825-ada96be9f9a0"
      },
      "execution_count": null,
      "outputs": [
        {
          "output_type": "stream",
          "name": "stdout",
          "text": [
            "\n",
            "temp_0.8\n",
            "1. Linguagem e vocabulário: 7/10. O texto faz uso de um vocabulário rico e arcaico, com palavras como \"anhão\", \"névoa\", \"lira\", \"musa\", \"forja\", \"alfabeto\", \"tirano\", entre outras. No entanto, há também o uso de termos mais modernos, como \"máquinas\", \"engrenagens\", \"indústria\", que não são comuns na obra de Shakespeare.\n",
            "\n",
            "2. Estrutura métrica: 6/10. Embora o texto não siga estritamente o pentâmetro iâmbico (cinco pares de sílabas acentuadas e não acentuadas) que é característico de Shakespeare, há uma tentativa de manter um ritmo poético e uma estrutura de verso.\n",
            "\n",
            "3. Figuras de linguagem e retórica: 8/10. O texto faz uso de várias metáforas e imagens poéticas, como \"as máquinas rugem como feras famintas\", \"a glória se forja no ferro e na chama\", \"a indústria é um poema de aço\", \"as engrenagens são letras de um alfabeto\", que são características do estilo de Shakespeare. No entanto, faltam os trocadilhos e jogos de palavras que são uma marca registrada do Bardo.\n",
            "\n",
            "Média dos critérios de autenticidade: 7/10. O texto faz um bom trabalho em imitar o estilo de Shakespeare em termos de linguagem, estrutura métrica e uso de figuras de linguagem. No entanto, há uma falta de trocadilhos e jogos de palavras, e o uso de termos modernos que não são típicos da obra de Shakespeare diminui um pouco a autenticidade.\n"
          ]
        }
      ]
    },
    {
      "cell_type": "code",
      "source": [],
      "metadata": {
        "id": "e3FiSLqzWg67"
      },
      "execution_count": null,
      "outputs": []
    },
    {
      "cell_type": "code",
      "source": [
        "resultados_model5 = {}\n",
        "for temp in [0.8]:\n",
        "    resultados_model5[f\"temp_{temp}\"] = gerar_texto_shakespeare(\n",
        "        \"A Revolução Industrial\",\n",
        "        temperatura=temp,\n",
        "        model=model5\n",
        "    )"
      ],
      "metadata": {
        "id": "tl3yU6SmWhEc"
      },
      "execution_count": null,
      "outputs": []
    },
    {
      "cell_type": "code",
      "source": [
        "# for k,v in resultados_model5.items():\n",
        "#   print()\n",
        "#   print(k)\n",
        "#   print(v[:200])"
      ],
      "metadata": {
        "id": "5_FsSl00WhEc"
      },
      "execution_count": null,
      "outputs": []
    },
    {
      "cell_type": "code",
      "source": [
        "analises_model5 = {}\n",
        "for temp in [0.8]:\n",
        "    analises_model5[f\"temp_{temp}\"] = analisar_estilo_shakespeare(\n",
        "        resultados_model5[f\"temp_{temp}\"]\n",
        "    )"
      ],
      "metadata": {
        "id": "HOaVbzaIWhEc"
      },
      "execution_count": null,
      "outputs": []
    },
    {
      "cell_type": "code",
      "source": [
        "for k,v in analises_model5.items():\n",
        "  print()\n",
        "  print(k)\n",
        "  print(v)"
      ],
      "metadata": {
        "colab": {
          "base_uri": "https://localhost:8080/"
        },
        "id": "TL2Z27SCWhEc",
        "outputId": "77f28322-67c5-4a74-d384-6dce10fdad65"
      },
      "execution_count": null,
      "outputs": [
        {
          "output_type": "stream",
          "name": "stdout",
          "text": [
            "\n",
            "temp_0.8\n",
            "1. Linguagem e vocabulário: O texto faz um bom uso de arcaísmos e uma linguagem rica que se assemelha ao estilo de Shakespeare. Expressões como \"Hark! What grievous storm is this that brews?\" e \"The loom hath spun more tales of woe than we\" são reminiscentes do vocabulário e da sintaxe usados por Shakespeare. No entanto, algumas expressões e palavras parecem um pouco forçadas e não tão naturais quanto em um texto autêntico de Shakespeare. Avaliação: 8/10.\n",
            "\n",
            "2. Estrutura métrica: O texto tenta seguir o pentâmetro iâmbico, que é a métrica mais comum nos trabalhos de Shakespeare. No entanto, nem todos os versos seguem essa estrutura perfeitamente. Por exemplo, \"The loom hath spun more tales of woe than we\" é um verso que não se encaixa perfeitamente no pentâmetro iâmbico. Avaliação: 7/10.\n",
            "\n",
            "3. Figuras de linguagem e retórica: O texto faz um uso eficaz de metáforas e imagens, como \"For in this forge of metal and of greed, The spark that lights the world, with fervent glow, May scorch the wings of those who dare to fly.\" No entanto, falta a presença de trocadilhos, que são uma característica marcante do estilo de Shakespeare. Avaliação: 7/10.\n",
            "\n",
            "Média dos critérios de autenticidade avaliados: (8+7+7)/3 = 7.33\n",
            "\n",
            "Em resumo, o texto faz um bom trabalho ao imitar o estilo de Shakespeare em termos de linguagem, vocabulário e uso de figuras de linguagem. No entanto, a estrutura métrica não é sempre consistente e faltam trocadilhos, que são uma característica importante do estilo de Shakespeare.\n"
          ]
        }
      ]
    }
  ]
}